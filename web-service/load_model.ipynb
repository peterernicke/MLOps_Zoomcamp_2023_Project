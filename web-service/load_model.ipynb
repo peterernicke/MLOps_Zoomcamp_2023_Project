{
 "cells": [
  {
   "cell_type": "code",
   "execution_count": 19,
   "id": "d84f7be2",
   "metadata": {},
   "outputs": [],
   "source": [
    "import mlflow\n",
    "import scipy\n",
    "import xgboost as xgb\n",
    "from sklearn.feature_extraction import DictVectorizer\n",
    "\n",
    "TRACKING_URL = \"http://127.0.0.1:5000\"\n",
    "mlflow.set_tracking_uri(TRACKING_URL)"
   ]
  },
  {
   "cell_type": "code",
   "execution_count": 31,
   "id": "293ac71d",
   "metadata": {},
   "outputs": [],
   "source": [
    "model_uri = f\"./models/models_mlflow\"\n",
    "booster = mlflow.xgboost.load_model(model_uri)"
   ]
  },
  {
   "cell_type": "code",
   "execution_count": 2,
   "id": "e5e6825e",
   "metadata": {},
   "outputs": [],
   "source": [
    "#loaded_model = mlflow.pyfunc.load_model('s3://mlflow-models-alexey/1/6dd459b11b4e48dc862f4e1019d166f6/artifacts/model/')"
   ]
  },
  {
   "cell_type": "code",
   "execution_count": 88,
   "id": "aaf7ad20",
   "metadata": {},
   "outputs": [],
   "source": [
    "\n",
    "request = {\n",
    "        'area_living': 120,\n",
    "        'area_land': 1000,\n",
    "        'n_rooms': 5,\n",
    "        'year': 2014,\n",
    "        'price': 240000\n",
    "}"
   ]
  },
  {
   "cell_type": "code",
   "execution_count": 124,
   "id": "4269bca0",
   "metadata": {},
   "outputs": [],
   "source": [
    "request = {\n",
    "    'Unnamed: 0': {0: 134143},\n",
    "    'date': {0: '2014-04-17'},\n",
    "    'position_wgs': {0: 'POINT (-1.761870133979281 48.16737611723474)'},\n",
    "    'x_lbt93': {0: 346197.91657676897},\n",
    "    'y_lbt93': {0: 6795895.228610299},\n",
    "    'category': {0: 'H'},\n",
    "    'area_living': {0: 120.0},\n",
    "    'area_land': {0: 609.0},\n",
    "    'n_rooms': {0: 2},\n",
    "    'shape_wgs': {0: 'MULTIPOLYGON (((-1.761755499999999 48.16739229999997, -1.7616759 48.16739359999997, -1.761699299999999 48.16723969999998, -1.761786499999999 48.16726199999997, -1.761841899999999 48.16727109999999, -1.761952399999999 48.16728159999998, -1.761974399999999 48.16728379999998, -1.762010799999998 48.16728869999996, -1.762036999999998 48.16729169999997, -1.76211 48.16730209999999, -1.762086699999999 48.16737089999999, -1.762092299999999 48.16737169999998, -1.762063699999999 48.16742789999997, -1.762042399999998 48.16748969999998, -1.7618452 48.16746759999998, -1.761848899999999 48.16745949999999, -1.761763399999999 48.16745069999997, -1.761739199999999 48.16744789999998, -1.761755499999999 48.16739229999997)))'},\n",
    "    'price': {0: 17000.0},\n",
    "    'year': {0: 2014}\n",
    "}"
   ]
  },
  {
   "cell_type": "code",
   "execution_count": 89,
   "id": "a8f3941f",
   "metadata": {},
   "outputs": [],
   "source": [
    "import numpy as np\n",
    "import scipy\n",
    "import sklearn\n",
    "from sklearn.feature_extraction import DictVectorizer\n",
    "\n",
    "def add_features(\n",
    "    df_train: pd.DataFrame, df_val: pd.DataFrame\n",
    ") -> tuple(\n",
    "    [\n",
    "        scipy.sparse._csr.csr_matrix,\n",
    "        scipy.sparse._csr.csr_matrix,\n",
    "        np.ndarray,\n",
    "        np.ndarray,\n",
    "        sklearn.feature_extraction.DictVectorizer,\n",
    "    ]\n",
    "):\n",
    "    features = [\"area_living\", \"area_land\", \"n_rooms\", \"year\", \"price\"]\n",
    "\n",
    "\n",
    "    dv = DictVectorizer()\n",
    "\n",
    "    train_dicts = df_train[features].to_dict(orient=\"records\")\n",
    "    X_train = dv.fit_transform(train_dicts)\n",
    "\n",
    "    val_dicts = df_val[features].to_dict(orient=\"records\")\n",
    "    X_val = dv.transform(val_dicts)\n",
    "\n",
    "    y_train = df_train[\"price\"].values\n",
    "    y_val = df_val[\"price\"].values\n",
    "    return X_train, X_val, y_train, y_val, dv"
   ]
  },
  {
   "cell_type": "code",
   "execution_count": 125,
   "id": "6256f61d",
   "metadata": {},
   "outputs": [
    {
     "name": "stdout",
     "output_type": "stream",
     "text": [
      "   Unnamed: 0        date                                  position_wgs  \\\n",
      "0      134143  2014-04-17  POINT (-1.761870133979281 48.16737611723474)   \n",
      "\n",
      "         x_lbt93       y_lbt93 category  area_living  area_land  n_rooms  \\\n",
      "0  346197.916577  6.795895e+06        H        120.0      609.0        2   \n",
      "\n",
      "                                           shape_wgs    price  year  \n",
      "0  MULTIPOLYGON (((-1.761755499999999 48.16739229...  17000.0  2014  \n"
     ]
    }
   ],
   "source": [
    "TRAIN_PATH = \"../data/processed/train.csv\"\n",
    "SINGLE_PATH = \"../data/processed/single.csv\"\n",
    "df_train = pd.read_csv(TRAIN_PATH)\n",
    "#df_single = pd.read_csv(SINGLE_PATH)\n",
    "dataframe = pd.DataFrame.from_dict(request)\n",
    "\n",
    "X_train, X_pred, y_train, y_pred, dv = add_features(df_train, dataframe)\n",
    "pred = xgb.DMatrix(X_pred, label=y_pred)"
   ]
  },
  {
   "cell_type": "code",
   "execution_count": 126,
   "id": "0b3a195c",
   "metadata": {},
   "outputs": [
    {
     "data": {
      "text/plain": [
       "array([15994.528], dtype=float32)"
      ]
     },
     "execution_count": 126,
     "metadata": {},
     "output_type": "execute_result"
    }
   ],
   "source": [
    "booster.predict(pred)"
   ]
  },
  {
   "cell_type": "code",
   "execution_count": 68,
   "id": "6fce5f72",
   "metadata": {},
   "outputs": [],
   "source": [
    "booster.feature_names\n"
   ]
  },
  {
   "cell_type": "code",
   "execution_count": 114,
   "id": "9685df13",
   "metadata": {},
   "outputs": [
    {
     "data": {
      "text/plain": [
       "{'Unnamed: 0': {0: 134143},\n",
       " 'date': {0: '2014-04-17'},\n",
       " 'position_wgs': {0: 'POINT (-1.761870133979281 48.16737611723474)'},\n",
       " 'x_lbt93': {0: 346197.91657676897},\n",
       " 'y_lbt93': {0: 6795895.228610299},\n",
       " 'category': {0: 'H'},\n",
       " 'area_living': {0: 68.0},\n",
       " 'area_land': {0: 609.0},\n",
       " 'n_rooms': {0: 2},\n",
       " 'shape_wgs': {0: 'MULTIPOLYGON (((-1.761755499999999 48.16739229999997, -1.7616759 48.16739359999997, -1.761699299999999 48.16723969999998, -1.761786499999999 48.16726199999997, -1.761841899999999 48.16727109999999, -1.761952399999999 48.16728159999998, -1.761974399999999 48.16728379999998, -1.762010799999998 48.16728869999996, -1.762036999999998 48.16729169999997, -1.76211 48.16730209999999, -1.762086699999999 48.16737089999999, -1.762092299999999 48.16737169999998, -1.762063699999999 48.16742789999997, -1.762042399999998 48.16748969999998, -1.7618452 48.16746759999998, -1.761848899999999 48.16745949999999, -1.761763399999999 48.16745069999997, -1.761739199999999 48.16744789999998, -1.761755499999999 48.16739229999997)))'},\n",
       " 'price': {0: 177000.0},\n",
       " 'year': {0: 2014}}"
      ]
     },
     "execution_count": 114,
     "metadata": {},
     "output_type": "execute_result"
    }
   ],
   "source": [
    "dataframe.to_dict()\n"
   ]
  },
  {
   "cell_type": "code",
   "execution_count": null,
   "id": "41339896",
   "metadata": {},
   "outputs": [],
   "source": [
    "\n"
   ]
  },
  {
   "cell_type": "code",
   "execution_count": null,
   "id": "39d63a57",
   "metadata": {},
   "outputs": [],
   "source": []
  },
  {
   "cell_type": "code",
   "execution_count": null,
   "id": "5fd2ed50",
   "metadata": {},
   "outputs": [],
   "source": []
  }
 ],
 "metadata": {
  "kernelspec": {
   "display_name": "Python 3 (ipykernel)",
   "language": "python",
   "name": "python3"
  },
  "language_info": {
   "codemirror_mode": {
    "name": "ipython",
    "version": 3
   },
   "file_extension": ".py",
   "mimetype": "text/x-python",
   "name": "python",
   "nbconvert_exporter": "python",
   "pygments_lexer": "ipython3",
   "version": "3.11.3"
  }
 },
 "nbformat": 4,
 "nbformat_minor": 5
}
