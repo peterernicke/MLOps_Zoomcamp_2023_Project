{
 "cells": [
  {
   "cell_type": "code",
   "execution_count": 9,
   "id": "d84f7be2",
   "metadata": {},
   "outputs": [],
   "source": [
    "import mlflow\n",
    "import pickle\n",
    "import scipy\n",
    "import xgboost as xgb\n",
    "from sklearn.feature_extraction import DictVectorizer\n",
    "\n",
    "TRACKING_URL = \"http://127.0.0.1:5000\"\n",
    "mlflow.set_tracking_uri(TRACKING_URL)"
   ]
  },
  {
   "cell_type": "code",
   "execution_count": 42,
   "id": "293ac71d",
   "metadata": {},
   "outputs": [
    {
     "name": "stdout",
     "output_type": "stream",
     "text": [
      "{}\n"
     ]
    }
   ],
   "source": [
    "model_uri = f\"./models/models_mlflow\"\n",
    "#model_uri = f\"mlruns/1/2dc6f02269dd400bb625f21a4a4616bc/models_mlflow\"\n",
    "dv_uri = f\"./models/preprocessor/preprocessor.b\"\n",
    "booster = mlflow.xgboost.load_model(model_uri)"
   ]
  },
  {
   "cell_type": "code",
   "execution_count": 10,
   "id": "e5e6825e",
   "metadata": {},
   "outputs": [],
   "source": [
    "#loaded_model = mlflow.pyfunc.load_model('s3://mlflow-models-alexey/1/6dd459b11b4e48dc862f4e1019d166f6/artifacts/model/')\n",
    "\n",
    "with open(dv_uri, 'rb') as f_out:\n",
    "    dv = pickle.load(f_out)"
   ]
  },
  {
   "cell_type": "code",
   "execution_count": 27,
   "id": "aaf7ad20",
   "metadata": {},
   "outputs": [],
   "source": [
    "\n",
    "request = {\n",
    "        'area_living': 120,\n",
    "        'area_land': 0,\n",
    "        'n_rooms': 5,\n",
    "        'year': 2014,\n",
    "        'price': 240000\n",
    "}"
   ]
  },
  {
   "cell_type": "code",
   "execution_count": 36,
   "id": "4269bca0",
   "metadata": {},
   "outputs": [
    {
     "data": {
      "text/plain": [
       "{'area_living': 120, 'area_land': 0, 'n_rooms': 5, 'year': 2014}"
      ]
     },
     "execution_count": 36,
     "metadata": {},
     "output_type": "execute_result"
    }
   ],
   "source": [
    "df_pred"
   ]
  },
  {
   "cell_type": "code",
   "execution_count": 28,
   "metadata": {},
   "outputs": [
    {
     "name": "stdout",
     "output_type": "stream",
     "text": [
      "0.9579661\n"
     ]
    }
   ],
   "source": [
    "df_pred = {}\n",
    "df_pred['area_living'] = request['area_living']\n",
    "df_pred['area_land'] = request['area_land']\n",
    "df_pred['n_rooms'] = request['n_rooms']\n",
    "df_pred['year'] = request['year']\n",
    "\n",
    "X = dv.transform(df_pred)\n",
    "y = [request[\"price\"]]\n",
    "tmp = xgb.DMatrix(X, label=y)\n",
    "pred = booster.predict(tmp)\n",
    "print(pred[0])"
   ]
  },
  {
   "cell_type": "code",
   "execution_count": null,
   "id": "a8f3941f",
   "metadata": {},
   "outputs": [],
   "source": []
  },
  {
   "cell_type": "code",
   "execution_count": 29,
   "id": "6256f61d",
   "metadata": {},
   "outputs": [],
   "source": [
    "request = {\n",
    "    'Unnamed: 0': {0: 134143},\n",
    "    'date': {0: '2014-04-17'},\n",
    "    'position_wgs': {0: 'POINT (-1.761870133979281 48.16737611723474)'},\n",
    "    'x_lbt93': {0: 346197.91657676897},\n",
    "    'y_lbt93': {0: 6795895.228610299},\n",
    "    'category': {0: 'H'},\n",
    "    'area_living': {0: 120.0},\n",
    "    'area_land': {0: 609.0},\n",
    "    'n_rooms': {0: 2},\n",
    "    'shape_wgs': {0: 'MULTIPOLYGON (((-1.761755499999999 48.16739229999997, -1.7616759 48.16739359999997, -1.761699299999999 48.16723969999998, -1.761786499999999 48.16726199999997, -1.761841899999999 48.16727109999999, -1.761952399999999 48.16728159999998, -1.761974399999999 48.16728379999998, -1.762010799999998 48.16728869999996, -1.762036999999998 48.16729169999997, -1.76211 48.16730209999999, -1.762086699999999 48.16737089999999, -1.762092299999999 48.16737169999998, -1.762063699999999 48.16742789999997, -1.762042399999998 48.16748969999998, -1.7618452 48.16746759999998, -1.761848899999999 48.16745949999999, -1.761763399999999 48.16745069999997, -1.761739199999999 48.16744789999998, -1.761755499999999 48.16739229999997)))'},\n",
    "    'price': {0: 17000.0},\n",
    "    'year': {0: 2014}\n",
    "}"
   ]
  },
  {
   "cell_type": "code",
   "execution_count": null,
   "id": "0b3a195c",
   "metadata": {},
   "outputs": [
    {
     "data": {
      "text/plain": [
       "array([15994.528], dtype=float32)"
      ]
     },
     "execution_count": 126,
     "metadata": {},
     "output_type": "execute_result"
    }
   ],
   "source": []
  },
  {
   "cell_type": "code",
   "execution_count": 26,
   "id": "6fce5f72",
   "metadata": {},
   "outputs": [
    {
     "name": "stdout",
     "output_type": "stream",
     "text": [
      "None\n"
     ]
    }
   ],
   "source": [
    "print(booster.feature_names)\n"
   ]
  },
  {
   "cell_type": "code",
   "execution_count": null,
   "id": "9685df13",
   "metadata": {},
   "outputs": [
    {
     "data": {
      "text/plain": [
       "{'Unnamed: 0': {0: 134143},\n",
       " 'date': {0: '2014-04-17'},\n",
       " 'position_wgs': {0: 'POINT (-1.761870133979281 48.16737611723474)'},\n",
       " 'x_lbt93': {0: 346197.91657676897},\n",
       " 'y_lbt93': {0: 6795895.228610299},\n",
       " 'category': {0: 'H'},\n",
       " 'area_living': {0: 68.0},\n",
       " 'area_land': {0: 609.0},\n",
       " 'n_rooms': {0: 2},\n",
       " 'shape_wgs': {0: 'MULTIPOLYGON (((-1.761755499999999 48.16739229999997, -1.7616759 48.16739359999997, -1.761699299999999 48.16723969999998, -1.761786499999999 48.16726199999997, -1.761841899999999 48.16727109999999, -1.761952399999999 48.16728159999998, -1.761974399999999 48.16728379999998, -1.762010799999998 48.16728869999996, -1.762036999999998 48.16729169999997, -1.76211 48.16730209999999, -1.762086699999999 48.16737089999999, -1.762092299999999 48.16737169999998, -1.762063699999999 48.16742789999997, -1.762042399999998 48.16748969999998, -1.7618452 48.16746759999998, -1.761848899999999 48.16745949999999, -1.761763399999999 48.16745069999997, -1.761739199999999 48.16744789999998, -1.761755499999999 48.16739229999997)))'},\n",
       " 'price': {0: 177000.0},\n",
       " 'year': {0: 2014}}"
      ]
     },
     "execution_count": 114,
     "metadata": {},
     "output_type": "execute_result"
    }
   ],
   "source": [
    "dataframe.to_dict()\n"
   ]
  },
  {
   "cell_type": "code",
   "execution_count": null,
   "id": "41339896",
   "metadata": {},
   "outputs": [],
   "source": [
    "\n"
   ]
  },
  {
   "cell_type": "code",
   "execution_count": null,
   "id": "39d63a57",
   "metadata": {},
   "outputs": [],
   "source": []
  },
  {
   "cell_type": "code",
   "execution_count": null,
   "id": "5fd2ed50",
   "metadata": {},
   "outputs": [],
   "source": []
  }
 ],
 "metadata": {
  "kernelspec": {
   "display_name": "Python 3 (ipykernel)",
   "language": "python",
   "name": "python3"
  },
  "language_info": {
   "codemirror_mode": {
    "name": "ipython",
    "version": 3
   },
   "file_extension": ".py",
   "mimetype": "text/x-python",
   "name": "python",
   "nbconvert_exporter": "python",
   "pygments_lexer": "ipython3",
   "version": "3.11.3"
  }
 },
 "nbformat": 4,
 "nbformat_minor": 5
}
